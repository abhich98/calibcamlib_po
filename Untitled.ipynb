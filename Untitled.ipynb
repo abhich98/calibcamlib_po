{
 "cells": [
  {
   "cell_type": "code",
   "execution_count": 1,
   "id": "0dca77b1-5160-4b60-b694-13f9597b253d",
   "metadata": {},
   "outputs": [],
   "source": [
    "%load_ext autoreload\n",
    "%autoreload 2"
   ]
  },
  {
   "cell_type": "code",
   "execution_count": 2,
   "id": "b67bf445-a51d-4895-aed4-6d943009a9ca",
   "metadata": {},
   "outputs": [],
   "source": [
    "import calibcamlib\n",
    "import numpy as np"
   ]
  },
  {
   "cell_type": "code",
   "execution_count": 3,
   "id": "72e43d4f-9a04-4611-a892-2a1ce950f5c9",
   "metadata": {},
   "outputs": [],
   "source": [
    "cs = calibcamlib.Camerasystem.from_calibcam_file('/media/smb/bbo3102/data/bulk/pose_B.EG.1.09/setup/camcal/20220217/multicalibration.npy')"
   ]
  },
  {
   "cell_type": "code",
   "execution_count": 4,
   "id": "f4206e20-d92b-4a47-9177-7c478418ee1a",
   "metadata": {},
   "outputs": [
    {
     "data": {
      "text/plain": [
       "array([[[715.36448052, 513.77605235],\n",
       "        [715.36448052, 513.77605235],\n",
       "        [721.82729117, 504.57154046]],\n",
       "\n",
       "       [[652.7846751 , 530.17242102],\n",
       "        [652.7846751 , 530.17242102],\n",
       "        [670.54224529, 530.16828984]],\n",
       "\n",
       "       [[611.79467911, 534.37215508],\n",
       "        [611.79467911, 534.37215508],\n",
       "        [605.07579258, 541.68385297]],\n",
       "\n",
       "       [[526.94367532, 500.06968434],\n",
       "        [526.94367532, 500.06968434],\n",
       "        [510.61338163, 496.62916806]]])"
      ]
     },
     "execution_count": 4,
     "metadata": {},
     "output_type": "execute_result"
    }
   ],
   "source": [
    "x = cs.project(np.array([[1, 2, 100],[1, 2, 100],[2, 2, 100]]))\n",
    "x"
   ]
  },
  {
   "cell_type": "code",
   "execution_count": 5,
   "id": "503dc6b1-52ec-4d83-abf3-d0a0e6d46759",
   "metadata": {},
   "outputs": [
    {
     "data": {
      "text/plain": [
       "array([[  1.,   2., 100.],\n",
       "       [  1.,   2., 100.],\n",
       "       [  2.,   2., 100.]])"
      ]
     },
     "execution_count": 5,
     "metadata": {},
     "output_type": "execute_result"
    }
   ],
   "source": [
    "X = cs.triangulate_3derr(x)\n",
    "X[0]"
   ]
  },
  {
   "cell_type": "code",
   "execution_count": 6,
   "id": "885c9b1c-0972-439a-810c-c38fa9596faa",
   "metadata": {},
   "outputs": [
    {
     "ename": "NameError",
     "evalue": "name 'x1' is not defined",
     "output_type": "error",
     "traceback": [
      "\u001b[0;31m---------------------------------------------------------------------------\u001b[0m",
      "\u001b[0;31mNameError\u001b[0m                                 Traceback (most recent call last)",
      "\u001b[0;32m<ipython-input-6-78370e7f7a7c>\u001b[0m in \u001b[0;36m<module>\u001b[0;34m\u001b[0m\n\u001b[1;32m      1\u001b[0m \u001b[0mx2\u001b[0m \u001b[0;34m=\u001b[0m \u001b[0mcs\u001b[0m\u001b[0;34m.\u001b[0m\u001b[0mproject\u001b[0m\u001b[0;34m(\u001b[0m\u001b[0mnp\u001b[0m\u001b[0;34m.\u001b[0m\u001b[0marray\u001b[0m\u001b[0;34m(\u001b[0m\u001b[0;34m[\u001b[0m\u001b[0;34m[\u001b[0m\u001b[0;36m2\u001b[0m\u001b[0;34m,\u001b[0m \u001b[0;36m4\u001b[0m\u001b[0;34m,\u001b[0m \u001b[0;36m200\u001b[0m\u001b[0;34m]\u001b[0m\u001b[0;34m]\u001b[0m\u001b[0;34m)\u001b[0m\u001b[0;34m)\u001b[0m\u001b[0;34m\u001b[0m\u001b[0;34m\u001b[0m\u001b[0m\n\u001b[0;32m----> 2\u001b[0;31m \u001b[0mnp\u001b[0m\u001b[0;34m.\u001b[0m\u001b[0mconcatenate\u001b[0m\u001b[0;34m(\u001b[0m\u001b[0;34m(\u001b[0m\u001b[0mx1\u001b[0m\u001b[0;34m,\u001b[0m\u001b[0mx2\u001b[0m\u001b[0;34m)\u001b[0m\u001b[0;34m,\u001b[0m\u001b[0maxis\u001b[0m\u001b[0;34m=\u001b[0m\u001b[0;36m1\u001b[0m\u001b[0;34m)\u001b[0m\u001b[0;34m\u001b[0m\u001b[0;34m\u001b[0m\u001b[0m\n\u001b[0m",
      "\u001b[0;31mNameError\u001b[0m: name 'x1' is not defined"
     ]
    }
   ],
   "source": [
    "x2 = cs.project(np.array([[2, 4, 200]]))\n",
    "np.concatenate((x1,x2),axis=1)"
   ]
  },
  {
   "cell_type": "code",
   "execution_count": null,
   "id": "4398556f-5b78-4b8f-a84c-8e04a550e1c5",
   "metadata": {},
   "outputs": [],
   "source": []
  }
 ],
 "metadata": {
  "kernelspec": {
   "display_name": "Python 3",
   "language": "python",
   "name": "python3"
  },
  "language_info": {
   "codemirror_mode": {
    "name": "ipython",
    "version": 3
   },
   "file_extension": ".py",
   "mimetype": "text/x-python",
   "name": "python",
   "nbconvert_exporter": "python",
   "pygments_lexer": "ipython3",
   "version": "3.8.8"
  }
 },
 "nbformat": 4,
 "nbformat_minor": 5
}
